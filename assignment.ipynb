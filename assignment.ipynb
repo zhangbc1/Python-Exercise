{
 "cells": [
  {
   "cell_type": "markdown",
   "id": "548a4fd8-abb8-48a6-bb2d-0774b9d9bf90",
   "metadata": {},
   "source": [
    "# My Jupyter Notebook on IBM Watson Studio"
   ]
  },
  {
   "cell_type": "markdown",
   "id": "bedad456-762b-4ce1-8981-b8bef9dc4b00",
   "metadata": {},
   "source": [
    "**Binchi Zhang**"
   ]
  },
  {
   "cell_type": "markdown",
   "id": "320a3baf-03f0-4b77-ab92-f718db634d49",
   "metadata": {},
   "source": [
    "I am currently a MIS student"
   ]
  },
  {
   "cell_type": "markdown",
   "id": "d5c18094-aa13-480c-853c-99a8492a6d2a",
   "metadata": {},
   "source": [
    "*I am interested in data science because i want to learn business analysit in master, i think it will helps me a lot*"
   ]
  },
  {
   "cell_type": "markdown",
   "id": "fcc57e6b-b654-4570-8cca-e80eecf4d7f6",
   "metadata": {},
   "source": [
    "### the code will implement simple mathematical calculations"
   ]
  },
  {
   "cell_type": "code",
   "execution_count": 1,
   "id": "da553b89-6bb6-44f0-9468-02d5e9932807",
   "metadata": {},
   "outputs": [
    {
     "data": {
      "text/plain": [
       "2"
      ]
     },
     "execution_count": 1,
     "metadata": {},
     "output_type": "execute_result"
    }
   ],
   "source": [
    "a = 1\n",
    "b = 1\n",
    "a+b"
   ]
  },
  {
   "cell_type": "markdown",
   "id": "502c7620-bd80-4603-9642-1c6da85e235d",
   "metadata": {},
   "source": [
    "| header | header | header | \n",
    "| ------ | ------ | ------ |\n",
    "| cell | cell | cell |\n",
    "| 1 | 2 | 3 |\n",
    "\n",
    "<font size=\"6\"> <a href=\"https://www.youtube.com/watch?v=ua-CiDNNj30\">Learn Data Science Tutorial - Full Course for Beginners</a>  <font>\n",
    "    \n",
    "    \n",
    "1. one\n",
    "2. two\n",
    "3. three\n",
    "    "
   ]
  },
  {
   "cell_type": "markdown",
   "id": "90c2d002-e9b3-442d-a4cc-2887b6cb0c61",
   "metadata": {},
   "source": []
  },
  {
   "cell_type": "code",
   "execution_count": null,
   "id": "b06b9a9f-dd5f-44f8-8151-9779e13d5f7e",
   "metadata": {},
   "outputs": [],
   "source": []
  }
 ],
 "metadata": {
  "kernelspec": {
   "display_name": "Python 3 (ipykernel)",
   "language": "python",
   "name": "python3"
  },
  "language_info": {
   "codemirror_mode": {
    "name": "ipython",
    "version": 3
   },
   "file_extension": ".py",
   "mimetype": "text/x-python",
   "name": "python",
   "nbconvert_exporter": "python",
   "pygments_lexer": "ipython3",
   "version": "3.9.7"
  }
 },
 "nbformat": 4,
 "nbformat_minor": 5
}
